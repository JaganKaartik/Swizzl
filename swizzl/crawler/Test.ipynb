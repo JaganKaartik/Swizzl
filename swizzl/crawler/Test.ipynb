{
 "cells": [
  {
   "cell_type": "code",
   "execution_count": 1,
   "metadata": {},
   "outputs": [],
   "source": [
    "from bs4 import BeautifulSoup\n",
    "import requests "
   ]
  },
  {
   "cell_type": "code",
   "execution_count": 2,
   "metadata": {},
   "outputs": [],
   "source": [
    "def linkText(link):\n",
    "    url = \"{}\".format(link)\n",
    "    r = requests.get(url)\n",
    "    soup = BeautifulSoup(r.content,\"lxml\")\n",
    "    article_text = ''\n",
    "    mylink = soup.find('div').findAll('p')\n",
    "    for i in mylink:\n",
    "        article_text += ''.join(i.findAll(text = True))\n",
    "    return article_text"
   ]
  },
  {
   "cell_type": "code",
   "execution_count": 25,
   "metadata": {},
   "outputs": [],
   "source": [
    "def YahooFetch():\n",
    "    url = \"https://news.yahoo.com/rss/\"\n",
    "    url = requests.get(url)\n",
    "    soup = BeautifulSoup(url.text,'xml')\n",
    "    \n",
    "    try:\n",
    "        # Fetch All Required items\n",
    "\n",
    "        titles = soup.findAll('title')\n",
    "        links = soup.findAll('link')\n",
    "        pubDates = soup.findAll('pubDate')\n",
    "\n",
    "    except Exception as e :\n",
    "        # Return Empty if titles, links, descriptions, pubdates not found\n",
    "       \n",
    "        print(e)\n",
    "        return \"Error\"\n",
    "\n",
    "    # We don't want the first elements as these are just metadata\n",
    "    \n",
    "    titles.pop(0)\n",
    "    titles.pop(0)\n",
    "    links.pop(0)\n",
    "    links.pop(0)\n",
    "    pubDates.pop(0)\n",
    "\n",
    "    #Dictionary to hold crawled information\n",
    "\n",
    "    FeedDict = {}\n",
    "    temp = []\n",
    "    temptext = []\n",
    "    try:\n",
    "        for i in titles:\n",
    "            temp.append(i.get_text())\n",
    "            FeedDict['title'] = temp\n",
    "        temp = []\n",
    "        for i in links:\n",
    "            temp.append(i.get_text())\n",
    "            temptext.append(linkText(i.get_text()))\n",
    "            FeedDict['link'] = temp\n",
    "            FeedDict['linktext'] = temptext\n",
    "        temp = []\n",
    "        for i in pubDates:\n",
    "            temp.append(i.get_text())\n",
    "            FeedDict['pubdate'] = temp\n",
    "        \n",
    "        print(\"Success\")\n",
    "    except Exception as e :\n",
    "        print(e)\n",
    "        return \"Error\"\n",
    "    \n",
    "    return FeedDict\n"
   ]
  },
  {
   "cell_type": "code",
   "execution_count": 26,
   "metadata": {},
   "outputs": [
    {
     "name": "stdout",
     "output_type": "stream",
     "text": [
      "Success\n",
      "--- 104.904296875 seconds ---\n"
     ]
    }
   ],
   "source": [
    "import time\n",
    "start_time = time.time()\n",
    "FeedDict = YahooFetch()\n",
    "print(\"--- %s seconds ---\" % (time.time() - start_time))"
   ]
  },
  {
   "cell_type": "code",
   "execution_count": null,
   "metadata": {},
   "outputs": [],
   "source": []
  },
  {
   "cell_type": "code",
   "execution_count": null,
   "metadata": {},
   "outputs": [],
   "source": []
  }
 ],
 "metadata": {
  "kernelspec": {
   "display_name": "Python 3",
   "language": "python",
   "name": "python3"
  },
  "language_info": {
   "codemirror_mode": {
    "name": "ipython",
    "version": 3
   },
   "file_extension": ".py",
   "mimetype": "text/x-python",
   "name": "python",
   "nbconvert_exporter": "python",
   "pygments_lexer": "ipython3",
   "version": "3.6.5"
  }
 },
 "nbformat": 4,
 "nbformat_minor": 2
}
