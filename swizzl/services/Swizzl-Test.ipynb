{
 "cells": [
  {
   "cell_type": "code",
   "execution_count": 1,
   "metadata": {},
   "outputs": [],
   "source": [
    "import os"
   ]
  },
  {
   "cell_type": "code",
   "execution_count": 5,
   "metadata": {},
   "outputs": [
    {
     "data": {
      "text/plain": [
       "'/Volumes/JK/Swizzl/swizzl/services'"
      ]
     },
     "execution_count": 5,
     "metadata": {},
     "output_type": "execute_result"
    }
   ],
   "source": [
    "os.getcwd()"
   ]
  },
  {
   "cell_type": "code",
   "execution_count": null,
   "metadata": {
    "scrolled": true
   },
   "outputs": [],
   "source": [
    "from bs4 import BeautifulSoup\n",
    "import requests \n",
    "from mlearning import sentiment as st\n",
    "from mlearning import prof\n",
    "import re\n",
    "import html"
   ]
  },
  {
   "cell_type": "code",
   "execution_count": 9,
   "metadata": {},
   "outputs": [],
   "source": [
    "def linkText(link):\n",
    "    url = \"{}\".format(link)\n",
    "    r = requests.get(url) \n",
    "    soup = BeautifulSoup(r.content,\"lxml\") \n",
    "    article_text = ''\n",
    "    mylink = soup.find('div').findAll('p')\n",
    "    for i in mylink:\n",
    "        article_text += ''.join(i.findAll(text = True))\n",
    "    return article_text"
   ]
  },
  {
   "cell_type": "code",
   "execution_count": 10,
   "metadata": {},
   "outputs": [],
   "source": [
    "def YahooFetch():\n",
    "    url = \"https://news.yahoo.com/rss/\"\n",
    "    url = requests.get(url)\n",
    "    soup = BeautifulSoup(url.text,'xml')\n",
    "    \n",
    "    try:\n",
    "        # Fetch All Required items\n",
    "        titles = soup.findAll('title')\n",
    "        links = soup.findAll('link')\n",
    "        pubDates = soup.findAll('pubDate')\n",
    "\n",
    "    except Exception as e :\n",
    "        \n",
    "        # Return Empty if titles, links, descriptions, pubdates not found\n",
    "        print(e)\n",
    "        return \"Error\"\n",
    "\n",
    "    # We don't want the first elements as these are just metadata\n",
    "    \n",
    "    titles.pop(0)\n",
    "    titles.pop(0)\n",
    "    links.pop(0)\n",
    "    links.pop(0)\n",
    "    pubDates.pop(0)\n",
    "\n",
    "    #Dictionary to hold crawled information\n",
    "\n",
    "    FeedDict = {}\n",
    "    temp = []\n",
    "    id = []\n",
    "    \n",
    "    try:\n",
    "        # Add titles to the Dictionary\n",
    "        for i in titles:\n",
    "            \n",
    "        \n",
    "        for i in titles:\n",
    "            temp.append(html.unescape(i.get_text()))\n",
    "            FeedDict['title'] = temp\n",
    "            \n",
    "        # Add link and details regarding text contetn @ link to the Dictionary\n",
    "        \n",
    "        temp = []\n",
    "        temptext = []\n",
    "        tbscore = []\n",
    "        vadscore = []\n",
    "        profvalue = []\n",
    "        for i in links:\n",
    "            \n",
    "            # Append Links\n",
    "            temp.append(html.unescape(i.get_text()))\n",
    "            \n",
    "            # Append Text Content from Links\n",
    "            textval = linkText(html.unescape(i.get_text()))\n",
    "            textval = re.sub('\\\"','\\\\\"',textval)\n",
    "            textval = \" \\\" \" + textval + \" \\\" \"\n",
    "            temptext.append(textval)\n",
    "            \n",
    "            # Find Subjectivity, Objectivity of text content\n",
    "            score = st.sentimentTB(textval)\n",
    "            tbscore.append(score)\n",
    "            \n",
    "            # Find Sentiment of text content\n",
    "            score = st.sentimentVader(textval)\n",
    "            vadscore.append(score)\n",
    "            \n",
    "            # Find Profanity Score of content\n",
    "            textval = [textval]\n",
    "            score = float(prof.predProf(textval))\n",
    "            profvalue.append(score)\n",
    "            \n",
    "            # Add to Feeds Dictionary \n",
    "            FeedDict['link'] = temp\n",
    "            FeedDict['linktext'] = temptext\n",
    "            FeedDict['tbScore'] = tbscore\n",
    "            FeedDict['vaderScore'] = vadscore\n",
    "            FeedDict['prof'] = profvalue\n",
    "            \n",
    "        # Add Published Dates to the Dictionary\n",
    "        temp = []\n",
    "        for i in pubDates:\n",
    "            temp.append(i.get_text())\n",
    "            FeedDict['pubdate'] = temp\n",
    "        \n",
    "        print(\"Success\")\n",
    "    except Exception as e :\n",
    "        print(e)\n",
    "        return \"Error\"\n",
    "    \n",
    "    return FeedDict"
   ]
  },
  {
   "cell_type": "code",
   "execution_count": null,
   "metadata": {},
   "outputs": [],
   "source": []
  }
 ],
 "metadata": {
  "kernelspec": {
   "display_name": "Python 3",
   "language": "python",
   "name": "python3"
  },
  "language_info": {
   "codemirror_mode": {
    "name": "ipython",
    "version": 3
   },
   "file_extension": ".py",
   "mimetype": "text/x-python",
   "name": "python",
   "nbconvert_exporter": "python",
   "pygments_lexer": "ipython3",
   "version": "3.6.5"
  }
 },
 "nbformat": 4,
 "nbformat_minor": 2
}
