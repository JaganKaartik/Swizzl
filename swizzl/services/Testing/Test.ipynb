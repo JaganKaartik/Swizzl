{
 "cells": [
  {
   "cell_type": "code",
   "execution_count": 55,
   "metadata": {},
   "outputs": [],
   "source": [
    "import os\n",
    "import re"
   ]
  },
  {
   "cell_type": "code",
   "execution_count": 5,
   "metadata": {},
   "outputs": [],
   "source": [
    "os.getcwd()\n",
    "path = '/Volumes/JK/Swizzl/swizzl/'\n",
    "os.chdir(path)"
   ]
  },
  {
   "cell_type": "code",
   "execution_count": 6,
   "metadata": {},
   "outputs": [
    {
     "name": "stderr",
     "output_type": "stream",
     "text": [
      "/Users/jagankaartik58/anaconda3/lib/python3.6/site-packages/sklearn/externals/joblib/__init__.py:15: DeprecationWarning: sklearn.externals.joblib is deprecated in 0.21 and will be removed in 0.23. Please import this functionality directly from joblib, which can be installed with: pip install joblib. If this warning is raised when loading pickled models, you may need to re-serialize those models with scikit-learn 0.21+.\n",
      "  warnings.warn(msg, category=DeprecationWarning)\n",
      "/Users/jagankaartik58/anaconda3/lib/python3.6/site-packages/sklearn/base.py:306: UserWarning: Trying to unpickle estimator CountVectorizer from version 0.20.2 when using version 0.21.0. This might lead to breaking code or invalid results. Use at your own risk.\n",
      "  UserWarning)\n",
      "/Users/jagankaartik58/anaconda3/lib/python3.6/site-packages/sklearn/base.py:306: UserWarning: Trying to unpickle estimator LinearSVC from version 0.20.2 when using version 0.21.0. This might lead to breaking code or invalid results. Use at your own risk.\n",
      "  UserWarning)\n",
      "/Users/jagankaartik58/anaconda3/lib/python3.6/site-packages/sklearn/base.py:306: UserWarning: Trying to unpickle estimator LabelEncoder from version 0.20.2 when using version 0.21.0. This might lead to breaking code or invalid results. Use at your own risk.\n",
      "  UserWarning)\n",
      "/Users/jagankaartik58/anaconda3/lib/python3.6/site-packages/sklearn/base.py:306: UserWarning: Trying to unpickle estimator _SigmoidCalibration from version 0.20.2 when using version 0.21.0. This might lead to breaking code or invalid results. Use at your own risk.\n",
      "  UserWarning)\n",
      "/Users/jagankaartik58/anaconda3/lib/python3.6/site-packages/sklearn/base.py:306: UserWarning: Trying to unpickle estimator CalibratedClassifierCV from version 0.20.2 when using version 0.21.0. This might lead to breaking code or invalid results. Use at your own risk.\n",
      "  UserWarning)\n"
     ]
    }
   ],
   "source": [
    "from bs4 import BeautifulSoup\n",
    "import requests \n",
    "from services.mlearning import sentiment as st\n",
    "from services.mlearning import prof"
   ]
  },
  {
   "cell_type": "code",
   "execution_count": 7,
   "metadata": {},
   "outputs": [],
   "source": [
    "def linkText(link):\n",
    "    url = \"{}\".format(link)\n",
    "    r = requests.get(url)\n",
    "    soup = BeautifulSoup(r.content,\"lxml\")\n",
    "    article_text = ''\n",
    "    mylink = soup.find('div').findAll('p')\n",
    "    for i in mylink:\n",
    "        article_text += ''.join(i.findAll(text = True))\n",
    "    return article_text"
   ]
  },
  {
   "cell_type": "code",
   "execution_count": 142,
   "metadata": {},
   "outputs": [],
   "source": [
    "\n",
    "def YahooFetch():\n",
    "    url = \"https://news.yahoo.com/rss/\"\n",
    "    url = requests.get(url)\n",
    "    soup = BeautifulSoup(url.text,'xml')\n",
    "    \n",
    "    try:\n",
    "        # Fetch All Required items\n",
    "\n",
    "        titles = soup.findAll('title')\n",
    "        links = soup.findAll('link')\n",
    "        pubDates = soup.findAll('pubDate')\n",
    "\n",
    "    except Exception as e :\n",
    "        # Return Empty if titles, links, descriptions, pubdates not found\n",
    "       \n",
    "        print(e)\n",
    "        return \"Error\"\n",
    "\n",
    "    # We don't want the first elements as these are just metadata\n",
    "    \n",
    "    titles.pop(0)\n",
    "    titles.pop(0)\n",
    "    links.pop(0)\n",
    "    links.pop(0)\n",
    "    pubDates.pop(0)\n",
    "\n",
    "    #Dictionary to hold crawled information\n",
    "\n",
    "    FeedDict = {}\n",
    "    temp, temptext, tbscore, vadscore, profvalue = ([], ) * 5\n",
    "    try:\n",
    "        # Add titles to the Dictionary\n",
    "        for i in titles:\n",
    "            temp.append(i.get_text())\n",
    "            FeedDict['title'] = temp\n",
    "            \n",
    "        # Add link and details regarding text contetn @ link to the Dictionary\n",
    "        temp = []\n",
    "        for i in links:\n",
    "            # Append Links\n",
    "            temp.append(i.get_text())\n",
    "            # Append Text Content from Links\n",
    "            textval = linkText(i.get_text())\n",
    "            textval = re.sub('\\\"','\\\\\"',textval)\n",
    "            textval = \" \\\" \" + textval + \" \\\" \"\n",
    "            temptext.append(textval)\n",
    "            # Find Subjectivity, Objectivity of text content\n",
    "            score = st.sentimentTB(textval)\n",
    "            tbscore.append(score)\n",
    "            # Find Sentiment of text content\n",
    "            score = st.sentimentVader(textval)\n",
    "            vadscore.append(score)\n",
    "            # Find Profanity Score of content\n",
    "            textval = [textval]\n",
    "            score = float(prof.predProf(textval))\n",
    "            profvalue.append(score)\n",
    "            # Add to Feeds Dictionary \n",
    "            FeedDict['link'] = temp\n",
    "            FeedDict['linktext'] = temptext\n",
    "            FeedDict['tbScore'] = tbscore\n",
    "            FeedDict['vaderScore'] = vadscore\n",
    "            FeedDict['prof'] = profvalue\n",
    "            \n",
    "        # Add Published Dates to the Dictionary\n",
    "        temp = []\n",
    "        for i in pubDates:\n",
    "            temp.append(i.get_text())\n",
    "            FeedDict['pubdate'] = temp\n",
    "        \n",
    "        print(\"Success\")\n",
    "    except Exception as e :\n",
    "        print(e)\n",
    "        return \"Error\"\n",
    "    \n",
    "    return FeedDict\n"
   ]
  },
  {
   "cell_type": "code",
   "execution_count": null,
   "metadata": {
    "scrolled": true
   },
   "outputs": [],
   "source": []
  },
  {
   "cell_type": "code",
   "execution_count": null,
   "metadata": {
    "scrolled": true
   },
   "outputs": [],
   "source": [
    "import time\n",
    "start_time = time.time()\n",
    "FeedDict = YahooFetch()\n",
    "print(\"--- %s seconds ---\" % (time.time() - start_time))"
   ]
  },
  {
   "cell_type": "code",
   "execution_count": 141,
   "metadata": {
    "scrolled": true
   },
   "outputs": [
    {
     "name": "stdout",
     "output_type": "stream",
     "text": [
      "49\n"
     ]
    }
   ],
   "source": [
    "count = 0\n",
    "for i in range(0,len(FeedDict['title'])):\n",
    "    if(re.findall(\"^https://news.yahoo.com\",FeedDict['link'][i])):\n",
    "        count = count + 1\n",
    "print(count)"
   ]
  },
  {
   "cell_type": "code",
   "execution_count": 96,
   "metadata": {},
   "outputs": [],
   "source": [
    "text =  \" Police breached a Hong Kong university campus held by protesters early Monday after an all-night siege that included firing repeated barrages of tear gas and water cannons.Anti-government protesters have barricaded themselves inside Hong Kong Polytechnic University for days. Police surrounded the area Sunday night and began moving in after issuing an ultimatum for people to leave the area. The crowd wore raincoats and carried umbrellas to shield themselves.Riot officers broke in one entrance before dawn as fires raged inside and outside the school, but they didn’t appear to get very far. Fiery explosions could be seen as protesters responded with gasoline bombs. Police, who have warned that everyone in the area could be charged with rioting, reportedly made a handful of arrests.At daybreak, protesters remained in control of most of the campus. In one outdoor area, some demonstrators made gasoline bombs while others dozed while wearing gas masks. Two walked about with bows and quivers of arrows, while many stared at their smartphones.A lull settled on the area as the president of the university said in a video message that that police have agreed to suspend their use of force.Jin-Guang Teng said police would allow protesters to leave and he would accompany them to the police station to ensure their cases would be processed fairly.“I hope that you will accept the proposed temporary suspension of force and leave the campus in a peaceful manner,” he said.It seemed unlikely the protesters would accept the offer given that they would all likely be arrested.A few hundred streamed out of the campus about 8:15 a.m. in an apparent bid to escape, but they were driven back by police tear gas. Some wearing gas masks calmly picked up smoking tear gas canisters and dropped them into heavy-duty bags, but the protesters decided to retreat with a phalanx of officers lined up across the road in the distance.On Sunday, protesters used bows and arrows, and one arrow struck a media liaison officer in the calf. Photos on the department’s Facebook page show the arrow sticking out of the back of the officer’s leg through his pants.As riot police moved in from all sides, some protesters retreated inside the university. Others set fires on bridges leading to it.A huge blaze burned along much of a long footbridge that connects a train station to the campus over the approach to the Cross-Harbour Tunnel, a major road under Hong Kong’s harbor that has been blocked by protesters for days.The use of bows and arrows and gasoline bombs was a sharp escalation of violence by the protesters, who are trying to keep the pressure on Hong Kong leaders, who have rejected most of their demands.The protests started peacefully in early June, sparked by proposed legislation that would have criminal suspects to be extradited to the mainland. But by the time the bill was withdrawn, the protests had hardened and broadened into a resistance movement against the territory’s government and Beijing.Activists see the extradition bill as an example of Hong Kong’s eroding autonomy under Beijing rule since the 1997 handover from colonial power Britain. (AP)See more news-related photo galleries and follow us on Yahoo News Photo Twitter and Tumblr._____Download the Yahoo News app to customize your experience.See more galleries from Yahoo News Photo:PHOTOS: Deadly shooting at California football partyPHOTOS: 10 bronze statues of inspirational women in NYC by Statues for Equality\\\"PHOTOS: California high school shootingPHOTOS: Layered portraits of Hong Kong's masked protestersPHOTOS: Venice flooded from rising tides and rainPHOTOS: Veterans Day 2019 observed at parades, memorials across the U.S.PHOTOS: For Syrian Kurds, and aid workers – the ‘safe zone’ is not so safe \" "
   ]
  },
  {
   "cell_type": "code",
   "execution_count": 112,
   "metadata": {},
   "outputs": [],
   "source": [
    "text = [text]"
   ]
  },
  {
   "cell_type": "code",
   "execution_count": 115,
   "metadata": {},
   "outputs": [
    {
     "data": {
      "text/plain": [
       "0.12095604436347504"
      ]
     },
     "execution_count": 115,
     "metadata": {},
     "output_type": "execute_result"
    }
   ],
   "source": [
    "float(prof.predProf(text))"
   ]
  },
  {
   "cell_type": "code",
   "execution_count": 30,
   "metadata": {
    "scrolled": true
   },
   "outputs": [
    {
     "name": "stdout",
     "output_type": "stream",
     "text": [
      "[' If you want to understand how impeachment is being seen by actual Americans, there may be no better place to go than Grand Rapids, Mich.In part that’s because the area around Grand Rapids, comprising Michigan’s Third Congressional District, is one of only about two dozen districts in the nation to vote for both Barack Obama and Donald Trump. In part it’s because the Third Congressional District, with its urban core, suburban sprawl and outlying rural farmland, neatly encapsulates the broader political geography of the state Trump won by the slimmest margin in 2016: just 10,704 votes.But mostly it’s because the incumbent congressman, Rep. Justin Amash, has transformed himself into a living, breathing impeachment Rorschach Test.Amash, a 39-year-old Palestinian-American, has always been independent with a lowercase “i.” Elected to Congress as a Republican in 2010 after earning the nickname “Mr. No” during his one term in the state legislature, the doctrinaire libertarian co-founded the House Freedom Caucus and continued to vote against new taxes and spending in Washington while also defying the GOP leadership on civil-liberties issues such as government surveillance and marijuana legalization. Those principled stands made him unpopular with his more establishment colleagues and kept him from ascending the Republican ranks and landing important committee assignments.In July, however, after reading the Mueller Report, Amash became a bona fide, capital-“I” Independent. He tweeted that Trump had, in fact, “engaged in impeachable conduct” and wrote a\\xa0Washington Post op-ed headlined “Our politics is in a partisan death spiral. That’s why I’m leaving the GOP.”Amash, elaborating on his thinking\\xa0at a recent town hall, said the hallmark of a Republican used to be caring about the Constitution and the role of government, about economic freedom and individual liberty.“Now, it’s how much do you support Trump?” he said. “That’s a dangerous place to be in our politics, where a man becomes more important than the ideas behind our country.”And so Amash’s upcoming reelection contest has become the country’s premier case study in the politics of impeachment and the larger questions it raises about partisanship, polarization and the fate of Trump’s presidency. In both 2008 and 2016, the voters of Michigan’s Third Congressional District, and Michigan in general, supported overturning a status quo that has largely left the industrial Midwest behind, backing the first African-American president, a Democrat promising “hope and change,” followed by a sui generis Republican who promised to blow the entire system up.But how deep does Michigan’s appetite for change run? Is there room in American politics for a conservative who doesn’t pledge allegiance to Trump? Will people who don’t necessarily agree with Amash on policy cross party lines to reward him for taking a principled stand? And what does all of this reveal about the mindset of swing voters in Michigan and elsewhere heading into 2020?\\xa0“Congressman Amash has really both reflected the independence of the region and of his district, and then to some extent has led to [that] independence,” says Doug Koopman, a political science professor at Calvin University in Grand Rapids. “His coalition has always been Republicans and some Democrats. And so when he leaves the Republican Party, that encourages even more people to think independently: ‘How am I going to vote?’ Here in Western Michigan, voters already are rethinking their loyalties.”They will certainly have plenty of choices in the primaries next August: At least six Republicans and five Democrats are campaigning for Amash’s seat. So far,\\xa0the leading Democratic fundraisers\\xa0are Nick Colvin of Ionia, a former Obama aide and White House lawyer; and Hillary Scholten of Grand Rapids, an immigration lawyer who served in Obama’s Justice Department. The leading Republicans are State Rep. Jim Lower; Joel Langlois, a local businessman who owns the DeltaPlex Arena\\xa0in Grand Rapids; and Peter Meijer, an Iraq veteran and scion of the wealthy family that owns a chain of supercenter stores in the Midwest.“It’s unprecedented,” Meijer tells Yahoo News. “You’ve got an Independent incumbent who is conservative in a lot of ways but holds very divergent positions from many Republicans today. Then you’ll have Republican and Democratic nominees who agree that the incumbent needs to go — and vehemently disagree about pretty much everything else. It’s going to be interesting.”Amash, for one, has already settled on his message: Voters in Western Michigan crave independence from their representatives in Congress, a “totally corrupt” place where “if you have independent thoughts, you are punished, criticized, and attacked even by your own party.”“I want to show people back in Washington that this can be done,” Amash\\xa0recently told Rolling Stone. “I think my colleagues expect that if you leave your party, you’re in big trouble.”Many of Amash’s Republican challengers are intent on making precisely the opposite case. As Langlois, a strong Trump supporter who hosted the soon-to-be president at his arena in 2016,\\xa0recently put it, \"Our current congressman abandoned President Trump and abandoned the Republican Party. We need a ... local congressman who will stand up for our conservative principles and have the president\\'s back.”But there’s another argument against Amash that might ultimately have more general-election appeal in a district that tends to eschew hardcore partisanship in favor of milder Midwestern civility and pragmatism. “It’s not like Grand Rapids is Berkeley and the outlying areas are the Deep South,” explains one Michigan GOP strategist, noting that former representatives from the area include former President Gerald Ford, and Amash’s immediate predecessor, Vern Ehlers, a research physicist and moderate Republican.“I grew frustrated long ago with Justin Amash,” says Democratic candidate Nick Colvin. “As opposed to coming to Washington and finding ways to work together and find solutions and bring resources back here that people need, he’s just been a constant thorn in everyone’s side.”Meijer, a Republican, basically agrees. “Obstinance is what it comes down to,” he says. “Before Rep. Amash was feuding with the president he was feuding with [former House Speaker] Paul Ryan. And before that he was feuding with [Ryan’s predecessor] John Boehner. Do we want somebody who is ready to actually introduce legislation and get it passed by working with other members? Do we want a representative? Or do we want a constitutional theorist? We’re not a district that gravitates towards attention seekers.”Amash’s rivals are saying, in effect, that he’s more invested in D.C. drama than delivering for the people he represents. The election in 2020 might come down, then, to whether voters in Western Michigan — and other key areas — are invested in that D.C. drama as well. What’s really motivating people to show up and vote? Their feelings about Trump, impeachment and national politics? Or their more immediate, more local needs and wants? Amash wants his reelection campaign to be a referendum on the former. At least some of his rivals are hoping it will be decided by the latter.“The average voter in this district is not paying attention to the above-the-fold controversies of the day with respect to impeachment,” says Colvin. “They’re focused on the rising cost of copays and whether they will have a job tomorrow. It would be a mistake to be singularly focused on impeachment when people in the Third have so many other things on their mind.”Right now, voters in Amash’s district sound torn.“I mean, he\\'s got his own choice,” T.J. Suchocki, a self-described libertarian and current Trump supporter, told Yahoo News when asked what he thinks of Amash. “However, I do think that he kind of abandoned his voters.”Mark Austin, a Republican turned Independent himself, disagrees. “I haven\\'t always agreed with [Amash] on policy, but I\\'m very proud of him for what he did standing up against Trump,” Austin explains. “There are not a lot of Republicans right now that are brave enough to do what they know is right, which is to stand up to the president when they know that the president has done something wrong. Yet Amash did that, so I give him full credit. I have voted for him before, and I would like to vote for him again.”“I do not go [along] party lines,” adds Anne Williamson of East Grand Rapids, who voted for Hillary Clinton in 2016 but isn’t sure where she stands on impeachment yet. “If they find [the president], like, absolutely guilty, then really that\\'s not OK. But if it\\'s implied or hearsay or the Democrats just trying to get him out of office, I\\'m not OK with that either. So we\\'ve just got to go with due process and see what happens.”As for how she’ll vote in 2020, Williamson is just as uncertain. “Trump is maybe not the most upstanding citizen that I would want representing the United States, but at this point in our lives and in the country’s history, you might need a hardnose in there,” she says. At the same time, she’s open to a “third-party” candidate as well. (Amash, it’s worth noting, has pointedly not ruled out a presidential run.)“This country is stuck in either Republican or Democratic [mode],” Williamson says. “There\\'s got to be a better balance. It\\'s not balanced right now.”\\xa0_____Download the Yahoo News app to customize your experience.Read more from Yahoo News:Rebuilding Paradise: A year after the Camp Fire, one couple finds healing in starting overKey Democrat: House needs to \\'keep this simple\\' in crafting impeachment articlesAs Supreme Court weighs DACA, Trump pushes fiction about \\'hardened criminals\\'‘The 360’: What is quid pro quo and does it matter?PHOTOS: California high school shooting']\n"
     ]
    }
   ],
   "source": [
    "print(FeedDict['linktext'][0])"
   ]
  },
  {
   "cell_type": "code",
   "execution_count": 24,
   "metadata": {
    "scrolled": true
   },
   "outputs": [
    {
     "ename": "TypeError",
     "evalue": "string indices must be integers",
     "output_type": "error",
     "traceback": [
      "\u001b[0;31m---------------------------------------------------------------------------\u001b[0m",
      "\u001b[0;31mTypeError\u001b[0m                                 Traceback (most recent call last)",
      "\u001b[0;32m<ipython-input-24-b15421c9bf83>\u001b[0m in \u001b[0;36m<module>\u001b[0;34m()\u001b[0m\n\u001b[1;32m      3\u001b[0m \u001b[0;31m# print(FeedDict['linktext'][0])\u001b[0m\u001b[0;34m\u001b[0m\u001b[0;34m\u001b[0m\u001b[0m\n\u001b[1;32m      4\u001b[0m \u001b[0;31m# print(FeedDict['pubdate'][0])\u001b[0m\u001b[0;34m\u001b[0m\u001b[0;34m\u001b[0m\u001b[0m\n\u001b[0;32m----> 5\u001b[0;31m \u001b[0mprint\u001b[0m\u001b[0;34m(\u001b[0m\u001b[0mFeedDict\u001b[0m\u001b[0;34m[\u001b[0m\u001b[0;34m'tbScore'\u001b[0m\u001b[0;34m]\u001b[0m\u001b[0;34m[\u001b[0m\u001b[0;36m0\u001b[0m\u001b[0;34m]\u001b[0m\u001b[0;34m)\u001b[0m\u001b[0;34m\u001b[0m\u001b[0m\n\u001b[0m\u001b[1;32m      6\u001b[0m \u001b[0mprint\u001b[0m\u001b[0;34m(\u001b[0m\u001b[0mFeedDict\u001b[0m\u001b[0;34m[\u001b[0m\u001b[0;34m'vaderScore'\u001b[0m\u001b[0;34m]\u001b[0m\u001b[0;34m[\u001b[0m\u001b[0;36m0\u001b[0m\u001b[0;34m]\u001b[0m\u001b[0;34m)\u001b[0m\u001b[0;34m\u001b[0m\u001b[0m\n\u001b[1;32m      7\u001b[0m \u001b[0mprint\u001b[0m\u001b[0;34m(\u001b[0m\u001b[0mFeedDict\u001b[0m\u001b[0;34m[\u001b[0m\u001b[0;34m'prof'\u001b[0m\u001b[0;34m]\u001b[0m\u001b[0;34m[\u001b[0m\u001b[0;36m0\u001b[0m\u001b[0;34m]\u001b[0m\u001b[0;34m)\u001b[0m\u001b[0;34m\u001b[0m\u001b[0m\n",
      "\u001b[0;31mTypeError\u001b[0m: string indices must be integers"
     ]
    }
   ],
   "source": [
    "# print(FeedDict['title'][0])\n",
    "# print(FeedDict['link'][0])\n",
    "# print(FeedDict['linktext'][0])\n",
    "# print(FeedDict['pubdate'][0])\n",
    "print(FeedDict['tbScore'][0])\n",
    "print(FeedDict['vaderScore'][0])\n",
    "print(FeedDict['prof'][0])"
   ]
  },
  {
   "cell_type": "code",
   "execution_count": 17,
   "metadata": {},
   "outputs": [],
   "source": [
    "import re\n",
    "docs = []\n",
    "for i in range(0,len(FeedDict['title'])):\n",
    "    text = re.sub('&#39','',FeedDict['title'][i])\n",
    "    docs.append(text)"
   ]
  },
  {
   "cell_type": "code",
   "execution_count": 18,
   "metadata": {},
   "outputs": [
    {
     "data": {
      "text/plain": [
       "[';You embarrassed yourself;: Kellyanne Conway blasts CNN;s Wolf Blitzer for playing George Conway clip',\n",
       " 'Virginia police say wanted Marine deserter sought family',\n",
       " 'Man caught at Houston airport with 35 pounds of liquid cocaine in shampoo bottles',\n",
       " 'Tempers flare over rebuilding of Notre-Dame spire',\n",
       " 'Fox Regular Claims George Soros ‘Controls a Very Large Part’ of the State Department',\n",
       " 'Russia blames fatal plane crash on pilots, including one who lied to get license',\n",
       " 'Supreme Court Justice Brett Kavanaugh gets hero;s welcome from conservative Federalist Society',\n",
       " 'Pirates attacked an Italian ship off the coast of Mexico — the latest sign of a growing criminal industry',\n",
       " 'DNC Announces 10 Candidates in Atlanta Democratic Debate',\n",
       " 'Trump: Impeachment ;has been very hard on my family;',\n",
       " 'American war veteran who spent several days in ICE detention receives $190k settlement',\n",
       " 'The Latest: Officer says Miranda failure was a mistake',\n",
       " 'Vietnam jails music teacher for ;undermining; state',\n",
       " 'Rep. Steve King Falsely IDs George Soros’ Son as Whistleblower',\n",
       " 'American teacher;s death in D.R. is being investigated Thursday as a murder',\n",
       " 'A History of Modern American Architecture',\n",
       " ';He doesn;t seem like the kind of kid to do this;: Classmates, neighbors surprised by suspected Santa Clarita shooter;s identity',\n",
       " 'One of Jamal Khashoggi’s close friends said Twitter is the ;only free platform; for many Saudis, but it also may have led to Khashoggi’s brutal murder',\n",
       " 'Fox News; Bret Baier suggests Trump just broke the law in ;real time; with tweeted attacks on Yovanovitch',\n",
       " 'Three judges suspended following drunken shooting in car park after failing to get into strip club',\n",
       " 'Suspect in ‘Potomac River Rapist’ cold case arrested',\n",
       " 'Iraq ;will never be the same; after protests: top Shiite cleric',\n",
       " 'Moving university to Vienna, Soros vows to defend academic freedom from Orban',\n",
       " 'Hyundai Santa Cruz Small Pickup Will Start Production in 2021',\n",
       " 'The U.S. Marine Corps Is Making Big Changes (Thanks to Threats from Russia and China)',\n",
       " 'From ;Anonymous,; key excerpts from inside Trump White House on Putin, Hillary',\n",
       " 'Scientists Are Fighting Over One of the Hottest Places on Earth',\n",
       " 'Trump lashes out after former adviser Roger Stone is convicted on all 7 counts',\n",
       " 'Bloomberg Responded ‘Kill It’ after Employee Disclosed Her Pregnancy, 1997 Lawsuit Alleges',\n",
       " 'Police: No indication restaurant staff heard racial comment',\n",
       " 'Federal judge rules U.S.-born ;ISIS bride; is not an American citizen',\n",
       " 'After 50 years, it;s past time to bring human LGBTQ+ characters to America;s Sesame Street',\n",
       " ';Come back tomorrow;: battling for asylum in South Africa',\n",
       " 'View Photos of the 2020 Morgan Plus 4',\n",
       " 'Bolivia interim leader recognises Guaido as legitimate Venezuelan leader as balance shifts',\n",
       " 'Saugus school shooting in California: What we know now',\n",
       " 'Russia lands forces at former U.S. air base in northern Syria',\n",
       " 'Rather Than Retiring, The Storied B-52 Is Getting Upgraded. Here;s Why',\n",
       " 'Georgia inmate executed for 1994 convenience store killing as last-minute DNA test denied',\n",
       " 'The new seal for the Navy;s next aircraft carrier contains a hint about big changes coming to naval aviation',\n",
       " 'N. Korea calls Biden a ‘rabid dog’ for insulting its dignity',\n",
       " 'Black South Carolina Leaders Distance Themselves from Buttigieg Campaign’s ‘Douglass Plan’',\n",
       " 'French tourist killed taking selfie at Thai waterfall',\n",
       " 'There have been more mass shootings than days in 2019',\n",
       " 'Off-duty officers were the first responders to the California high school shooting — because they were dropping off their own family members for school',\n",
       " 'See Photos of the 2020 Nissan Titan',\n",
       " 'Pelosi: What Trump did makes what Nixon did during Watergate ‘look almost small’',\n",
       " 'Trump releases 2nd Zelensky call transcript seconds before Yovanovitch appears for public impeachment hearing',\n",
       " 'Chicago teachers to vote on agreement that guarantees 16% raise, $35M to reduce classes',\n",
       " 'Taliban say prisoner swap promised by Kabul fails to happen']"
      ]
     },
     "execution_count": 18,
     "metadata": {},
     "output_type": "execute_result"
    }
   ],
   "source": [
    "docs"
   ]
  },
  {
   "cell_type": "code",
   "execution_count": 19,
   "metadata": {},
   "outputs": [],
   "source": [
    "from nltk.corpus import stopwords\n",
    "from nltk.stem.wordnet import WordNetLemmatizer\n",
    "import string\n",
    "stop = set(stopwords.words('english'))\n",
    "exclude = set(string.punctuation)\n",
    "lemma = WordNetLemmatizer()\n",
    "def clean(doc):\n",
    "    stop_free = \" \".join([i for i in doc.lower().split() if i not in stop])\n",
    "    punc_free = ''.join(ch for ch in stop_free if ch not in exclude)\n",
    "    normalized = \" \".join(lemma.lemmatize(word) for word in punc_free.split())\n",
    "    return normalized\n",
    "\n",
    "doc_clean = [clean(doc).split() for doc in docs] "
   ]
  },
  {
   "cell_type": "code",
   "execution_count": 20,
   "metadata": {},
   "outputs": [
    {
     "data": {
      "text/plain": [
       "[['you',\n",
       "  'embarrassed',\n",
       "  'yourself',\n",
       "  'kellyanne',\n",
       "  'conway',\n",
       "  'blast',\n",
       "  'cnns',\n",
       "  'wolf',\n",
       "  'blitzer',\n",
       "  'playing',\n",
       "  'george',\n",
       "  'conway',\n",
       "  'clip'],\n",
       " ['virginia',\n",
       "  'police',\n",
       "  'say',\n",
       "  'wanted',\n",
       "  'marine',\n",
       "  'deserter',\n",
       "  'sought',\n",
       "  'family'],\n",
       " ['man',\n",
       "  'caught',\n",
       "  'houston',\n",
       "  'airport',\n",
       "  '35',\n",
       "  'pound',\n",
       "  'liquid',\n",
       "  'cocaine',\n",
       "  'shampoo',\n",
       "  'bottle'],\n",
       " ['temper', 'flare', 'rebuilding', 'notredame', 'spire'],\n",
       " ['fox',\n",
       "  'regular',\n",
       "  'claim',\n",
       "  'george',\n",
       "  'soros',\n",
       "  '‘controls',\n",
       "  'large',\n",
       "  'part’',\n",
       "  'state',\n",
       "  'department'],\n",
       " ['russia',\n",
       "  'blame',\n",
       "  'fatal',\n",
       "  'plane',\n",
       "  'crash',\n",
       "  'pilot',\n",
       "  'including',\n",
       "  'one',\n",
       "  'lied',\n",
       "  'get',\n",
       "  'license'],\n",
       " ['supreme',\n",
       "  'court',\n",
       "  'justice',\n",
       "  'brett',\n",
       "  'kavanaugh',\n",
       "  'get',\n",
       "  'hero',\n",
       "  'welcome',\n",
       "  'conservative',\n",
       "  'federalist',\n",
       "  'society'],\n",
       " ['pirate',\n",
       "  'attacked',\n",
       "  'italian',\n",
       "  'ship',\n",
       "  'coast',\n",
       "  'mexico',\n",
       "  '—',\n",
       "  'latest',\n",
       "  'sign',\n",
       "  'growing',\n",
       "  'criminal',\n",
       "  'industry'],\n",
       " ['dnc', 'announces', '10', 'candidate', 'atlanta', 'democratic', 'debate'],\n",
       " ['trump', 'impeachment', 'ha', 'hard', 'family'],\n",
       " ['american',\n",
       "  'war',\n",
       "  'veteran',\n",
       "  'spent',\n",
       "  'several',\n",
       "  'day',\n",
       "  'ice',\n",
       "  'detention',\n",
       "  'receives',\n",
       "  '190k',\n",
       "  'settlement'],\n",
       " ['latest', 'officer', 'say', 'miranda', 'failure', 'mistake'],\n",
       " ['vietnam', 'jail', 'music', 'teacher', 'undermining', 'state'],\n",
       " ['rep',\n",
       "  'steve',\n",
       "  'king',\n",
       "  'falsely',\n",
       "  'id',\n",
       "  'george',\n",
       "  'soros’',\n",
       "  'son',\n",
       "  'whistleblower'],\n",
       " ['american', 'teacher', 'death', 'dr', 'investigated', 'thursday', 'murder'],\n",
       " ['history', 'modern', 'american', 'architecture'],\n",
       " ['he',\n",
       "  'doesnt',\n",
       "  'seem',\n",
       "  'like',\n",
       "  'kind',\n",
       "  'kid',\n",
       "  'this',\n",
       "  'classmate',\n",
       "  'neighbor',\n",
       "  'surprised',\n",
       "  'suspected',\n",
       "  'santa',\n",
       "  'clarita',\n",
       "  'shooter',\n",
       "  'identity'],\n",
       " ['one',\n",
       "  'jamal',\n",
       "  'khashoggi’s',\n",
       "  'close',\n",
       "  'friend',\n",
       "  'said',\n",
       "  'twitter',\n",
       "  'only',\n",
       "  'free',\n",
       "  'platform',\n",
       "  'many',\n",
       "  'saudi',\n",
       "  'also',\n",
       "  'may',\n",
       "  'led',\n",
       "  'khashoggi’s',\n",
       "  'brutal',\n",
       "  'murder'],\n",
       " ['fox',\n",
       "  'news',\n",
       "  'bret',\n",
       "  'baier',\n",
       "  'suggests',\n",
       "  'trump',\n",
       "  'broke',\n",
       "  'law',\n",
       "  'real',\n",
       "  'time',\n",
       "  'tweeted',\n",
       "  'attack',\n",
       "  'yovanovitch'],\n",
       " ['three',\n",
       "  'judge',\n",
       "  'suspended',\n",
       "  'following',\n",
       "  'drunken',\n",
       "  'shooting',\n",
       "  'car',\n",
       "  'park',\n",
       "  'failing',\n",
       "  'get',\n",
       "  'strip',\n",
       "  'club'],\n",
       " ['suspect', '‘potomac', 'river', 'rapist’', 'cold', 'case', 'arrested'],\n",
       " ['iraq', 'will', 'never', 'same', 'protest', 'top', 'shiite', 'cleric'],\n",
       " ['moving',\n",
       "  'university',\n",
       "  'vienna',\n",
       "  'soros',\n",
       "  'vow',\n",
       "  'defend',\n",
       "  'academic',\n",
       "  'freedom',\n",
       "  'orban'],\n",
       " ['hyundai',\n",
       "  'santa',\n",
       "  'cruz',\n",
       "  'small',\n",
       "  'pickup',\n",
       "  'start',\n",
       "  'production',\n",
       "  '2021'],\n",
       " ['u',\n",
       "  'marine',\n",
       "  'corp',\n",
       "  'making',\n",
       "  'big',\n",
       "  'change',\n",
       "  'thanks',\n",
       "  'threat',\n",
       "  'russia',\n",
       "  'china'],\n",
       " ['anonymous',\n",
       "  'key',\n",
       "  'excerpt',\n",
       "  'inside',\n",
       "  'trump',\n",
       "  'white',\n",
       "  'house',\n",
       "  'putin',\n",
       "  'hillary'],\n",
       " ['scientist', 'fighting', 'one', 'hottest', 'place', 'earth'],\n",
       " ['trump',\n",
       "  'lash',\n",
       "  'former',\n",
       "  'adviser',\n",
       "  'roger',\n",
       "  'stone',\n",
       "  'convicted',\n",
       "  '7',\n",
       "  'count'],\n",
       " ['bloomberg',\n",
       "  'responded',\n",
       "  '‘kill',\n",
       "  'it’',\n",
       "  'employee',\n",
       "  'disclosed',\n",
       "  'pregnancy',\n",
       "  '1997',\n",
       "  'lawsuit',\n",
       "  'alleges'],\n",
       " ['police', 'indication', 'restaurant', 'staff', 'heard', 'racial', 'comment'],\n",
       " ['federal', 'judge', 'rule', 'usborn', 'isi', 'bride', 'american', 'citizen'],\n",
       " ['50',\n",
       "  'year',\n",
       "  'it',\n",
       "  'past',\n",
       "  'time',\n",
       "  'bring',\n",
       "  'human',\n",
       "  'lgbtq',\n",
       "  'character',\n",
       "  'america',\n",
       "  'sesame',\n",
       "  'street'],\n",
       " ['come', 'back', 'tomorrow', 'battling', 'asylum', 'south', 'africa'],\n",
       " ['view', 'photo', '2020', 'morgan', 'plus', '4'],\n",
       " ['bolivia',\n",
       "  'interim',\n",
       "  'leader',\n",
       "  'recognises',\n",
       "  'guaido',\n",
       "  'legitimate',\n",
       "  'venezuelan',\n",
       "  'leader',\n",
       "  'balance',\n",
       "  'shift'],\n",
       " ['saugus', 'school', 'shooting', 'california', 'know'],\n",
       " ['russia',\n",
       "  'land',\n",
       "  'force',\n",
       "  'former',\n",
       "  'u',\n",
       "  'air',\n",
       "  'base',\n",
       "  'northern',\n",
       "  'syria'],\n",
       " ['rather', 'retiring', 'storied', 'b52', 'getting', 'upgraded', 'here'],\n",
       " ['georgia',\n",
       "  'inmate',\n",
       "  'executed',\n",
       "  '1994',\n",
       "  'convenience',\n",
       "  'store',\n",
       "  'killing',\n",
       "  'lastminute',\n",
       "  'dna',\n",
       "  'test',\n",
       "  'denied'],\n",
       " ['new',\n",
       "  'seal',\n",
       "  'navy',\n",
       "  'next',\n",
       "  'aircraft',\n",
       "  'carrier',\n",
       "  'contains',\n",
       "  'hint',\n",
       "  'big',\n",
       "  'change',\n",
       "  'coming',\n",
       "  'naval',\n",
       "  'aviation'],\n",
       " ['n', 'korea', 'call', 'biden', '‘rabid', 'dog’', 'insulting', 'dignity'],\n",
       " ['black',\n",
       "  'south',\n",
       "  'carolina',\n",
       "  'leader',\n",
       "  'distance',\n",
       "  'buttigieg',\n",
       "  'campaign’s',\n",
       "  '‘douglass',\n",
       "  'plan’'],\n",
       " ['french', 'tourist', 'killed', 'taking', 'selfie', 'thai', 'waterfall'],\n",
       " ['mass', 'shooting', 'day', '2019'],\n",
       " ['offduty',\n",
       "  'officer',\n",
       "  'first',\n",
       "  'responder',\n",
       "  'california',\n",
       "  'high',\n",
       "  'school',\n",
       "  'shooting',\n",
       "  '—',\n",
       "  'dropping',\n",
       "  'family',\n",
       "  'member',\n",
       "  'school'],\n",
       " ['see', 'photo', '2020', 'nissan', 'titan'],\n",
       " ['pelosi',\n",
       "  'trump',\n",
       "  'make',\n",
       "  'nixon',\n",
       "  'watergate',\n",
       "  '‘look',\n",
       "  'almost',\n",
       "  'small’'],\n",
       " ['trump',\n",
       "  'release',\n",
       "  '2nd',\n",
       "  'zelensky',\n",
       "  'call',\n",
       "  'transcript',\n",
       "  'second',\n",
       "  'yovanovitch',\n",
       "  'appears',\n",
       "  'public',\n",
       "  'impeachment',\n",
       "  'hearing'],\n",
       " ['chicago',\n",
       "  'teacher',\n",
       "  'vote',\n",
       "  'agreement',\n",
       "  'guarantee',\n",
       "  '16',\n",
       "  'raise',\n",
       "  '35m',\n",
       "  'reduce',\n",
       "  'class'],\n",
       " ['taliban',\n",
       "  'say',\n",
       "  'prisoner',\n",
       "  'swap',\n",
       "  'promised',\n",
       "  'kabul',\n",
       "  'fails',\n",
       "  'happen']]"
      ]
     },
     "execution_count": 20,
     "metadata": {},
     "output_type": "execute_result"
    }
   ],
   "source": [
    "doc_clean"
   ]
  },
  {
   "cell_type": "code",
   "execution_count": 21,
   "metadata": {},
   "outputs": [],
   "source": [
    "import gensim\n",
    "from gensim import corpora"
   ]
  },
  {
   "cell_type": "code",
   "execution_count": 25,
   "metadata": {},
   "outputs": [],
   "source": [
    "dictionary = corpora.Dictionary(doc_clean)\n",
    "doc_term_matrix = [dictionary.doc2bow(doc) for doc in doc_clean]"
   ]
  },
  {
   "cell_type": "code",
   "execution_count": 26,
   "metadata": {},
   "outputs": [],
   "source": [
    "Lda = gensim.models.ldamodel.LdaModel"
   ]
  },
  {
   "cell_type": "code",
   "execution_count": 7,
   "metadata": {},
   "outputs": [
    {
     "ename": "NameError",
     "evalue": "name 'Lda' is not defined",
     "output_type": "error",
     "traceback": [
      "\u001b[0;31m---------------------------------------------------------------------------\u001b[0m",
      "\u001b[0;31mNameError\u001b[0m                                 Traceback (most recent call last)",
      "\u001b[0;32m<ipython-input-7-6211ee60ff72>\u001b[0m in \u001b[0;36m<module>\u001b[0;34m()\u001b[0m\n\u001b[0;32m----> 1\u001b[0;31m \u001b[0mldamodel\u001b[0m \u001b[0;34m=\u001b[0m \u001b[0mLda\u001b[0m\u001b[0;34m(\u001b[0m\u001b[0mdoc_term_matrix\u001b[0m\u001b[0;34m,\u001b[0m \u001b[0mnum_topics\u001b[0m\u001b[0;34m=\u001b[0m\u001b[0;36m5\u001b[0m\u001b[0;34m,\u001b[0m \u001b[0mid2word\u001b[0m \u001b[0;34m=\u001b[0m \u001b[0mdictionary\u001b[0m\u001b[0;34m,\u001b[0m \u001b[0mpasses\u001b[0m\u001b[0;34m=\u001b[0m\u001b[0;36m50\u001b[0m\u001b[0;34m)\u001b[0m\u001b[0;34m\u001b[0m\u001b[0m\n\u001b[0m",
      "\u001b[0;31mNameError\u001b[0m: name 'Lda' is not defined"
     ]
    }
   ],
   "source": [
    "ldamodel = Lda(doc_term_matrix, num_topics=5, id2word = dictionary, passes=50)"
   ]
  },
  {
   "cell_type": "code",
   "execution_count": 8,
   "metadata": {},
   "outputs": [
    {
     "ename": "NameError",
     "evalue": "name 'ldamodel' is not defined",
     "output_type": "error",
     "traceback": [
      "\u001b[0;31m---------------------------------------------------------------------------\u001b[0m",
      "\u001b[0;31mNameError\u001b[0m                                 Traceback (most recent call last)",
      "\u001b[0;32m<ipython-input-8-ca9000cf21e9>\u001b[0m in \u001b[0;36m<module>\u001b[0;34m()\u001b[0m\n\u001b[0;32m----> 1\u001b[0;31m \u001b[0mtopics\u001b[0m \u001b[0;34m=\u001b[0m \u001b[0mldamodel\u001b[0m\u001b[0;34m.\u001b[0m\u001b[0mprint_topics\u001b[0m\u001b[0;34m(\u001b[0m\u001b[0mnum_topics\u001b[0m\u001b[0;34m=\u001b[0m\u001b[0;36m3\u001b[0m\u001b[0;34m)\u001b[0m\u001b[0;34m\u001b[0m\u001b[0m\n\u001b[0m\u001b[1;32m      2\u001b[0m \u001b[0;32mfor\u001b[0m \u001b[0mtopic\u001b[0m \u001b[0;32min\u001b[0m \u001b[0mtopics\u001b[0m\u001b[0;34m:\u001b[0m\u001b[0;34m\u001b[0m\u001b[0m\n\u001b[1;32m      3\u001b[0m     \u001b[0mprint\u001b[0m\u001b[0;34m(\u001b[0m\u001b[0mtopic\u001b[0m\u001b[0;34m)\u001b[0m\u001b[0;34m\u001b[0m\u001b[0m\n",
      "\u001b[0;31mNameError\u001b[0m: name 'ldamodel' is not defined"
     ]
    }
   ],
   "source": [
    "topics = ldamodel.print_topics(num_topics=3)\n",
    "for topic in topics:\n",
    "    print(topic)"
   ]
  },
  {
   "cell_type": "code",
   "execution_count": 35,
   "metadata": {},
   "outputs": [],
   "source": [
    "from nltk.stem.wordnet import WordNetLemmatizer \n",
    "lmtzr=WordNetLemmatizer()"
   ]
  },
  {
   "cell_type": "code",
   "execution_count": 36,
   "metadata": {},
   "outputs": [],
   "source": [
    "from time import time"
   ]
  },
  {
   "cell_type": "markdown",
   "metadata": {},
   "source": []
  },
  {
   "cell_type": "code",
   "execution_count": 52,
   "metadata": {},
   "outputs": [
    {
     "name": "stdout",
     "output_type": "stream",
     "text": [
      "cat\n",
      "--- 0.0002472400665283203 seconds ---\n"
     ]
    }
   ],
   "source": [
    "start_time = time.time()\n",
    "print(lmtzr.lemmatize('cats'))\n",
    "print(\"--- %s seconds ---\" % (time.time() - start_time))"
   ]
  },
  {
   "cell_type": "code",
   "execution_count": 53,
   "metadata": {},
   "outputs": [
    {
     "name": "stdout",
     "output_type": "stream",
     "text": [
      "dog\n",
      "--- 0.0004298686981201172 seconds ---\n"
     ]
    }
   ],
   "source": [
    "start_time = time.time()\n",
    "print(lmtzr.lemmatize('dogs'))\n",
    "print(\"--- %s seconds ---\" % (time.time() - start_time))"
   ]
  },
  {
   "cell_type": "code",
   "execution_count": 54,
   "metadata": {},
   "outputs": [
    {
     "name": "stdout",
     "output_type": "stream",
     "text": [
      "impeachment\n",
      "--- 0.00022292137145996094 seconds ---\n"
     ]
    }
   ],
   "source": [
    "start_time = time.time()\n",
    "print(lmtzr.lemmatize('impeachment'))\n",
    "print(\"--- %s seconds ---\" % (time.time() - start_time))"
   ]
  },
  {
   "cell_type": "code",
   "execution_count": null,
   "metadata": {},
   "outputs": [],
   "source": []
  },
  {
   "cell_type": "code",
   "execution_count": null,
   "metadata": {},
   "outputs": [],
   "source": []
  }
 ],
 "metadata": {
  "kernelspec": {
   "display_name": "Python 3",
   "language": "python",
   "name": "python3"
  },
  "language_info": {
   "codemirror_mode": {
    "name": "ipython",
    "version": 3
   },
   "file_extension": ".py",
   "mimetype": "text/x-python",
   "name": "python",
   "nbconvert_exporter": "python",
   "pygments_lexer": "ipython3",
   "version": "3.6.5"
  }
 },
 "nbformat": 4,
 "nbformat_minor": 2
}
